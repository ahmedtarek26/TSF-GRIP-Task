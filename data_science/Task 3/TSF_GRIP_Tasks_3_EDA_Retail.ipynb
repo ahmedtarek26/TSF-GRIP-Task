{
  "nbformat": 4,
  "nbformat_minor": 0,
  "metadata": {
    "colab": {
      "name": "TSF_GRIP_Tasks#3_EDA_Retail.ipynb",
      "provenance": [],
      "collapsed_sections": []
    },
    "kernelspec": {
      "name": "python3",
      "display_name": "Python 3"
    },
    "language_info": {
      "name": "python"
    }
  },
  "cells": [
    {
      "cell_type": "markdown",
      "source": [
        "## TSF GRIP  **Task#3**\n",
        "##  **Author :** Ahmed Tarek Elsayed"
      ],
      "metadata": {
        "id": "mNrRCbK5Il-c"
      }
    },
    {
      "cell_type": "markdown",
      "source": [
        "# Importing libraries needed in this project"
      ],
      "metadata": {
        "id": "aYKxHGvzF-0u"
      }
    },
    {
      "cell_type": "code",
      "execution_count": 210,
      "metadata": {
        "id": "NgoHF9fuH327"
      },
      "outputs": [],
      "source": [
        "import pandas as pd\n",
        "import numpy as np\n",
        "import matplotlib.pyplot as plt\n",
        "import plotly .express as px\n",
        "import plotly.graph_objects as go\n",
        "import seaborn as sns\n",
        "import warnings\n",
        "warnings.filterwarnings('ignore')"
      ]
    },
    {
      "cell_type": "code",
      "source": [
        "!gdown --id 1lV7is1B566UQPYzzY8R2ZmOritTW299S"
      ],
      "metadata": {
        "id": "_khbpWDTISlM",
        "colab": {
          "base_uri": "https://localhost:8080/"
        },
        "outputId": "585818a7-fef5-4f1a-8266-d826c6e30598"
      },
      "execution_count": 211,
      "outputs": [
        {
          "output_type": "stream",
          "name": "stdout",
          "text": [
            "Downloading...\n",
            "From: https://drive.google.com/uc?id=1lV7is1B566UQPYzzY8R2ZmOritTW299S\n",
            "To: /content/SampleSuperstore.csv\n",
            "\r  0% 0.00/1.11M [00:00<?, ?B/s]\r100% 1.11M/1.11M [00:00<00:00, 127MB/s]\n"
          ]
        }
      ]
    },
    {
      "cell_type": "markdown",
      "source": [
        "# Understanding the data"
      ],
      "metadata": {
        "id": "x_deXT6AGGqC"
      }
    },
    {
      "cell_type": "code",
      "source": [
        "data =pd.read_csv('/content/SampleSuperstore.csv')\n",
        "data.head()"
      ],
      "metadata": {
        "colab": {
          "base_uri": "https://localhost:8080/",
          "height": 206
        },
        "id": "p-1fDn9VE1__",
        "outputId": "8030fe72-97e9-4900-a9ec-a27e1c8fbd20"
      },
      "execution_count": 212,
      "outputs": [
        {
          "output_type": "execute_result",
          "data": {
            "text/html": [
              "\n",
              "  <div id=\"df-bbc3a5d8-ad4a-4fe2-8efa-25899482553c\">\n",
              "    <div class=\"colab-df-container\">\n",
              "      <div>\n",
              "<style scoped>\n",
              "    .dataframe tbody tr th:only-of-type {\n",
              "        vertical-align: middle;\n",
              "    }\n",
              "\n",
              "    .dataframe tbody tr th {\n",
              "        vertical-align: top;\n",
              "    }\n",
              "\n",
              "    .dataframe thead th {\n",
              "        text-align: right;\n",
              "    }\n",
              "</style>\n",
              "<table border=\"1\" class=\"dataframe\">\n",
              "  <thead>\n",
              "    <tr style=\"text-align: right;\">\n",
              "      <th></th>\n",
              "      <th>Ship Mode</th>\n",
              "      <th>Segment</th>\n",
              "      <th>Country</th>\n",
              "      <th>City</th>\n",
              "      <th>State</th>\n",
              "      <th>Postal Code</th>\n",
              "      <th>Region</th>\n",
              "      <th>Category</th>\n",
              "      <th>Sub-Category</th>\n",
              "      <th>Sales</th>\n",
              "      <th>Quantity</th>\n",
              "      <th>Discount</th>\n",
              "      <th>Profit</th>\n",
              "    </tr>\n",
              "  </thead>\n",
              "  <tbody>\n",
              "    <tr>\n",
              "      <th>0</th>\n",
              "      <td>Second Class</td>\n",
              "      <td>Consumer</td>\n",
              "      <td>United States</td>\n",
              "      <td>Henderson</td>\n",
              "      <td>Kentucky</td>\n",
              "      <td>42420</td>\n",
              "      <td>South</td>\n",
              "      <td>Furniture</td>\n",
              "      <td>Bookcases</td>\n",
              "      <td>261.9600</td>\n",
              "      <td>2</td>\n",
              "      <td>0.00</td>\n",
              "      <td>41.9136</td>\n",
              "    </tr>\n",
              "    <tr>\n",
              "      <th>1</th>\n",
              "      <td>Second Class</td>\n",
              "      <td>Consumer</td>\n",
              "      <td>United States</td>\n",
              "      <td>Henderson</td>\n",
              "      <td>Kentucky</td>\n",
              "      <td>42420</td>\n",
              "      <td>South</td>\n",
              "      <td>Furniture</td>\n",
              "      <td>Chairs</td>\n",
              "      <td>731.9400</td>\n",
              "      <td>3</td>\n",
              "      <td>0.00</td>\n",
              "      <td>219.5820</td>\n",
              "    </tr>\n",
              "    <tr>\n",
              "      <th>2</th>\n",
              "      <td>Second Class</td>\n",
              "      <td>Corporate</td>\n",
              "      <td>United States</td>\n",
              "      <td>Los Angeles</td>\n",
              "      <td>California</td>\n",
              "      <td>90036</td>\n",
              "      <td>West</td>\n",
              "      <td>Office Supplies</td>\n",
              "      <td>Labels</td>\n",
              "      <td>14.6200</td>\n",
              "      <td>2</td>\n",
              "      <td>0.00</td>\n",
              "      <td>6.8714</td>\n",
              "    </tr>\n",
              "    <tr>\n",
              "      <th>3</th>\n",
              "      <td>Standard Class</td>\n",
              "      <td>Consumer</td>\n",
              "      <td>United States</td>\n",
              "      <td>Fort Lauderdale</td>\n",
              "      <td>Florida</td>\n",
              "      <td>33311</td>\n",
              "      <td>South</td>\n",
              "      <td>Furniture</td>\n",
              "      <td>Tables</td>\n",
              "      <td>957.5775</td>\n",
              "      <td>5</td>\n",
              "      <td>0.45</td>\n",
              "      <td>-383.0310</td>\n",
              "    </tr>\n",
              "    <tr>\n",
              "      <th>4</th>\n",
              "      <td>Standard Class</td>\n",
              "      <td>Consumer</td>\n",
              "      <td>United States</td>\n",
              "      <td>Fort Lauderdale</td>\n",
              "      <td>Florida</td>\n",
              "      <td>33311</td>\n",
              "      <td>South</td>\n",
              "      <td>Office Supplies</td>\n",
              "      <td>Storage</td>\n",
              "      <td>22.3680</td>\n",
              "      <td>2</td>\n",
              "      <td>0.20</td>\n",
              "      <td>2.5164</td>\n",
              "    </tr>\n",
              "  </tbody>\n",
              "</table>\n",
              "</div>\n",
              "      <button class=\"colab-df-convert\" onclick=\"convertToInteractive('df-bbc3a5d8-ad4a-4fe2-8efa-25899482553c')\"\n",
              "              title=\"Convert this dataframe to an interactive table.\"\n",
              "              style=\"display:none;\">\n",
              "        \n",
              "  <svg xmlns=\"http://www.w3.org/2000/svg\" height=\"24px\"viewBox=\"0 0 24 24\"\n",
              "       width=\"24px\">\n",
              "    <path d=\"M0 0h24v24H0V0z\" fill=\"none\"/>\n",
              "    <path d=\"M18.56 5.44l.94 2.06.94-2.06 2.06-.94-2.06-.94-.94-2.06-.94 2.06-2.06.94zm-11 1L8.5 8.5l.94-2.06 2.06-.94-2.06-.94L8.5 2.5l-.94 2.06-2.06.94zm10 10l.94 2.06.94-2.06 2.06-.94-2.06-.94-.94-2.06-.94 2.06-2.06.94z\"/><path d=\"M17.41 7.96l-1.37-1.37c-.4-.4-.92-.59-1.43-.59-.52 0-1.04.2-1.43.59L10.3 9.45l-7.72 7.72c-.78.78-.78 2.05 0 2.83L4 21.41c.39.39.9.59 1.41.59.51 0 1.02-.2 1.41-.59l7.78-7.78 2.81-2.81c.8-.78.8-2.07 0-2.86zM5.41 20L4 18.59l7.72-7.72 1.47 1.35L5.41 20z\"/>\n",
              "  </svg>\n",
              "      </button>\n",
              "      \n",
              "  <style>\n",
              "    .colab-df-container {\n",
              "      display:flex;\n",
              "      flex-wrap:wrap;\n",
              "      gap: 12px;\n",
              "    }\n",
              "\n",
              "    .colab-df-convert {\n",
              "      background-color: #E8F0FE;\n",
              "      border: none;\n",
              "      border-radius: 50%;\n",
              "      cursor: pointer;\n",
              "      display: none;\n",
              "      fill: #1967D2;\n",
              "      height: 32px;\n",
              "      padding: 0 0 0 0;\n",
              "      width: 32px;\n",
              "    }\n",
              "\n",
              "    .colab-df-convert:hover {\n",
              "      background-color: #E2EBFA;\n",
              "      box-shadow: 0px 1px 2px rgba(60, 64, 67, 0.3), 0px 1px 3px 1px rgba(60, 64, 67, 0.15);\n",
              "      fill: #174EA6;\n",
              "    }\n",
              "\n",
              "    [theme=dark] .colab-df-convert {\n",
              "      background-color: #3B4455;\n",
              "      fill: #D2E3FC;\n",
              "    }\n",
              "\n",
              "    [theme=dark] .colab-df-convert:hover {\n",
              "      background-color: #434B5C;\n",
              "      box-shadow: 0px 1px 3px 1px rgba(0, 0, 0, 0.15);\n",
              "      filter: drop-shadow(0px 1px 2px rgba(0, 0, 0, 0.3));\n",
              "      fill: #FFFFFF;\n",
              "    }\n",
              "  </style>\n",
              "\n",
              "      <script>\n",
              "        const buttonEl =\n",
              "          document.querySelector('#df-bbc3a5d8-ad4a-4fe2-8efa-25899482553c button.colab-df-convert');\n",
              "        buttonEl.style.display =\n",
              "          google.colab.kernel.accessAllowed ? 'block' : 'none';\n",
              "\n",
              "        async function convertToInteractive(key) {\n",
              "          const element = document.querySelector('#df-bbc3a5d8-ad4a-4fe2-8efa-25899482553c');\n",
              "          const dataTable =\n",
              "            await google.colab.kernel.invokeFunction('convertToInteractive',\n",
              "                                                     [key], {});\n",
              "          if (!dataTable) return;\n",
              "\n",
              "          const docLinkHtml = 'Like what you see? Visit the ' +\n",
              "            '<a target=\"_blank\" href=https://colab.research.google.com/notebooks/data_table.ipynb>data table notebook</a>'\n",
              "            + ' to learn more about interactive tables.';\n",
              "          element.innerHTML = '';\n",
              "          dataTable['output_type'] = 'display_data';\n",
              "          await google.colab.output.renderOutput(dataTable, element);\n",
              "          const docLink = document.createElement('div');\n",
              "          docLink.innerHTML = docLinkHtml;\n",
              "          element.appendChild(docLink);\n",
              "        }\n",
              "      </script>\n",
              "    </div>\n",
              "  </div>\n",
              "  "
            ],
            "text/plain": [
              "        Ship Mode    Segment        Country  ... Quantity Discount    Profit\n",
              "0    Second Class   Consumer  United States  ...        2     0.00   41.9136\n",
              "1    Second Class   Consumer  United States  ...        3     0.00  219.5820\n",
              "2    Second Class  Corporate  United States  ...        2     0.00    6.8714\n",
              "3  Standard Class   Consumer  United States  ...        5     0.45 -383.0310\n",
              "4  Standard Class   Consumer  United States  ...        2     0.20    2.5164\n",
              "\n",
              "[5 rows x 13 columns]"
            ]
          },
          "metadata": {},
          "execution_count": 212
        }
      ]
    },
    {
      "cell_type": "code",
      "source": [
        "data.isnull().sum()"
      ],
      "metadata": {
        "colab": {
          "base_uri": "https://localhost:8080/"
        },
        "id": "o_LPApQLFfRp",
        "outputId": "68129125-659c-4f9b-ae60-6dae57b8674b"
      },
      "execution_count": 213,
      "outputs": [
        {
          "output_type": "execute_result",
          "data": {
            "text/plain": [
              "Ship Mode       0\n",
              "Segment         0\n",
              "Country         0\n",
              "City            0\n",
              "State           0\n",
              "Postal Code     0\n",
              "Region          0\n",
              "Category        0\n",
              "Sub-Category    0\n",
              "Sales           0\n",
              "Quantity        0\n",
              "Discount        0\n",
              "Profit          0\n",
              "dtype: int64"
            ]
          },
          "metadata": {},
          "execution_count": 213
        }
      ]
    },
    {
      "cell_type": "markdown",
      "source": [
        "Nice there are no null data 😊😊"
      ],
      "metadata": {
        "id": "_Zxqm67EFphm"
      }
    },
    {
      "cell_type": "code",
      "source": [
        "data.info()"
      ],
      "metadata": {
        "colab": {
          "base_uri": "https://localhost:8080/"
        },
        "id": "Ct1KfjbWJ7B-",
        "outputId": "c0daa45f-1158-4cbe-b939-0e804cc72dbe"
      },
      "execution_count": 214,
      "outputs": [
        {
          "output_type": "stream",
          "name": "stdout",
          "text": [
            "<class 'pandas.core.frame.DataFrame'>\n",
            "RangeIndex: 9994 entries, 0 to 9993\n",
            "Data columns (total 13 columns):\n",
            " #   Column        Non-Null Count  Dtype  \n",
            "---  ------        --------------  -----  \n",
            " 0   Ship Mode     9994 non-null   object \n",
            " 1   Segment       9994 non-null   object \n",
            " 2   Country       9994 non-null   object \n",
            " 3   City          9994 non-null   object \n",
            " 4   State         9994 non-null   object \n",
            " 5   Postal Code   9994 non-null   int64  \n",
            " 6   Region        9994 non-null   object \n",
            " 7   Category      9994 non-null   object \n",
            " 8   Sub-Category  9994 non-null   object \n",
            " 9   Sales         9994 non-null   float64\n",
            " 10  Quantity      9994 non-null   int64  \n",
            " 11  Discount      9994 non-null   float64\n",
            " 12  Profit        9994 non-null   float64\n",
            "dtypes: float64(3), int64(2), object(8)\n",
            "memory usage: 1015.1+ KB\n"
          ]
        }
      ]
    },
    {
      "cell_type": "code",
      "source": [
        "data.describe()"
      ],
      "metadata": {
        "colab": {
          "base_uri": "https://localhost:8080/",
          "height": 300
        },
        "id": "G9YwJambFnjP",
        "outputId": "cbe839b2-387e-4711-debe-079792cfd136"
      },
      "execution_count": 215,
      "outputs": [
        {
          "output_type": "execute_result",
          "data": {
            "text/html": [
              "\n",
              "  <div id=\"df-4cb436ed-0d46-4d6f-b189-7f4839b602ad\">\n",
              "    <div class=\"colab-df-container\">\n",
              "      <div>\n",
              "<style scoped>\n",
              "    .dataframe tbody tr th:only-of-type {\n",
              "        vertical-align: middle;\n",
              "    }\n",
              "\n",
              "    .dataframe tbody tr th {\n",
              "        vertical-align: top;\n",
              "    }\n",
              "\n",
              "    .dataframe thead th {\n",
              "        text-align: right;\n",
              "    }\n",
              "</style>\n",
              "<table border=\"1\" class=\"dataframe\">\n",
              "  <thead>\n",
              "    <tr style=\"text-align: right;\">\n",
              "      <th></th>\n",
              "      <th>Postal Code</th>\n",
              "      <th>Sales</th>\n",
              "      <th>Quantity</th>\n",
              "      <th>Discount</th>\n",
              "      <th>Profit</th>\n",
              "    </tr>\n",
              "  </thead>\n",
              "  <tbody>\n",
              "    <tr>\n",
              "      <th>count</th>\n",
              "      <td>9994.000000</td>\n",
              "      <td>9994.000000</td>\n",
              "      <td>9994.000000</td>\n",
              "      <td>9994.000000</td>\n",
              "      <td>9994.000000</td>\n",
              "    </tr>\n",
              "    <tr>\n",
              "      <th>mean</th>\n",
              "      <td>55190.379428</td>\n",
              "      <td>229.858001</td>\n",
              "      <td>3.789574</td>\n",
              "      <td>0.156203</td>\n",
              "      <td>28.656896</td>\n",
              "    </tr>\n",
              "    <tr>\n",
              "      <th>std</th>\n",
              "      <td>32063.693350</td>\n",
              "      <td>623.245101</td>\n",
              "      <td>2.225110</td>\n",
              "      <td>0.206452</td>\n",
              "      <td>234.260108</td>\n",
              "    </tr>\n",
              "    <tr>\n",
              "      <th>min</th>\n",
              "      <td>1040.000000</td>\n",
              "      <td>0.444000</td>\n",
              "      <td>1.000000</td>\n",
              "      <td>0.000000</td>\n",
              "      <td>-6599.978000</td>\n",
              "    </tr>\n",
              "    <tr>\n",
              "      <th>25%</th>\n",
              "      <td>23223.000000</td>\n",
              "      <td>17.280000</td>\n",
              "      <td>2.000000</td>\n",
              "      <td>0.000000</td>\n",
              "      <td>1.728750</td>\n",
              "    </tr>\n",
              "    <tr>\n",
              "      <th>50%</th>\n",
              "      <td>56430.500000</td>\n",
              "      <td>54.490000</td>\n",
              "      <td>3.000000</td>\n",
              "      <td>0.200000</td>\n",
              "      <td>8.666500</td>\n",
              "    </tr>\n",
              "    <tr>\n",
              "      <th>75%</th>\n",
              "      <td>90008.000000</td>\n",
              "      <td>209.940000</td>\n",
              "      <td>5.000000</td>\n",
              "      <td>0.200000</td>\n",
              "      <td>29.364000</td>\n",
              "    </tr>\n",
              "    <tr>\n",
              "      <th>max</th>\n",
              "      <td>99301.000000</td>\n",
              "      <td>22638.480000</td>\n",
              "      <td>14.000000</td>\n",
              "      <td>0.800000</td>\n",
              "      <td>8399.976000</td>\n",
              "    </tr>\n",
              "  </tbody>\n",
              "</table>\n",
              "</div>\n",
              "      <button class=\"colab-df-convert\" onclick=\"convertToInteractive('df-4cb436ed-0d46-4d6f-b189-7f4839b602ad')\"\n",
              "              title=\"Convert this dataframe to an interactive table.\"\n",
              "              style=\"display:none;\">\n",
              "        \n",
              "  <svg xmlns=\"http://www.w3.org/2000/svg\" height=\"24px\"viewBox=\"0 0 24 24\"\n",
              "       width=\"24px\">\n",
              "    <path d=\"M0 0h24v24H0V0z\" fill=\"none\"/>\n",
              "    <path d=\"M18.56 5.44l.94 2.06.94-2.06 2.06-.94-2.06-.94-.94-2.06-.94 2.06-2.06.94zm-11 1L8.5 8.5l.94-2.06 2.06-.94-2.06-.94L8.5 2.5l-.94 2.06-2.06.94zm10 10l.94 2.06.94-2.06 2.06-.94-2.06-.94-.94-2.06-.94 2.06-2.06.94z\"/><path d=\"M17.41 7.96l-1.37-1.37c-.4-.4-.92-.59-1.43-.59-.52 0-1.04.2-1.43.59L10.3 9.45l-7.72 7.72c-.78.78-.78 2.05 0 2.83L4 21.41c.39.39.9.59 1.41.59.51 0 1.02-.2 1.41-.59l7.78-7.78 2.81-2.81c.8-.78.8-2.07 0-2.86zM5.41 20L4 18.59l7.72-7.72 1.47 1.35L5.41 20z\"/>\n",
              "  </svg>\n",
              "      </button>\n",
              "      \n",
              "  <style>\n",
              "    .colab-df-container {\n",
              "      display:flex;\n",
              "      flex-wrap:wrap;\n",
              "      gap: 12px;\n",
              "    }\n",
              "\n",
              "    .colab-df-convert {\n",
              "      background-color: #E8F0FE;\n",
              "      border: none;\n",
              "      border-radius: 50%;\n",
              "      cursor: pointer;\n",
              "      display: none;\n",
              "      fill: #1967D2;\n",
              "      height: 32px;\n",
              "      padding: 0 0 0 0;\n",
              "      width: 32px;\n",
              "    }\n",
              "\n",
              "    .colab-df-convert:hover {\n",
              "      background-color: #E2EBFA;\n",
              "      box-shadow: 0px 1px 2px rgba(60, 64, 67, 0.3), 0px 1px 3px 1px rgba(60, 64, 67, 0.15);\n",
              "      fill: #174EA6;\n",
              "    }\n",
              "\n",
              "    [theme=dark] .colab-df-convert {\n",
              "      background-color: #3B4455;\n",
              "      fill: #D2E3FC;\n",
              "    }\n",
              "\n",
              "    [theme=dark] .colab-df-convert:hover {\n",
              "      background-color: #434B5C;\n",
              "      box-shadow: 0px 1px 3px 1px rgba(0, 0, 0, 0.15);\n",
              "      filter: drop-shadow(0px 1px 2px rgba(0, 0, 0, 0.3));\n",
              "      fill: #FFFFFF;\n",
              "    }\n",
              "  </style>\n",
              "\n",
              "      <script>\n",
              "        const buttonEl =\n",
              "          document.querySelector('#df-4cb436ed-0d46-4d6f-b189-7f4839b602ad button.colab-df-convert');\n",
              "        buttonEl.style.display =\n",
              "          google.colab.kernel.accessAllowed ? 'block' : 'none';\n",
              "\n",
              "        async function convertToInteractive(key) {\n",
              "          const element = document.querySelector('#df-4cb436ed-0d46-4d6f-b189-7f4839b602ad');\n",
              "          const dataTable =\n",
              "            await google.colab.kernel.invokeFunction('convertToInteractive',\n",
              "                                                     [key], {});\n",
              "          if (!dataTable) return;\n",
              "\n",
              "          const docLinkHtml = 'Like what you see? Visit the ' +\n",
              "            '<a target=\"_blank\" href=https://colab.research.google.com/notebooks/data_table.ipynb>data table notebook</a>'\n",
              "            + ' to learn more about interactive tables.';\n",
              "          element.innerHTML = '';\n",
              "          dataTable['output_type'] = 'display_data';\n",
              "          await google.colab.output.renderOutput(dataTable, element);\n",
              "          const docLink = document.createElement('div');\n",
              "          docLink.innerHTML = docLinkHtml;\n",
              "          element.appendChild(docLink);\n",
              "        }\n",
              "      </script>\n",
              "    </div>\n",
              "  </div>\n",
              "  "
            ],
            "text/plain": [
              "        Postal Code         Sales     Quantity     Discount       Profit\n",
              "count   9994.000000   9994.000000  9994.000000  9994.000000  9994.000000\n",
              "mean   55190.379428    229.858001     3.789574     0.156203    28.656896\n",
              "std    32063.693350    623.245101     2.225110     0.206452   234.260108\n",
              "min     1040.000000      0.444000     1.000000     0.000000 -6599.978000\n",
              "25%    23223.000000     17.280000     2.000000     0.000000     1.728750\n",
              "50%    56430.500000     54.490000     3.000000     0.200000     8.666500\n",
              "75%    90008.000000    209.940000     5.000000     0.200000    29.364000\n",
              "max    99301.000000  22638.480000    14.000000     0.800000  8399.976000"
            ]
          },
          "metadata": {},
          "execution_count": 215
        }
      ]
    },
    {
      "cell_type": "code",
      "source": [
        "data.corr()"
      ],
      "metadata": {
        "colab": {
          "base_uri": "https://localhost:8080/",
          "height": 206
        },
        "id": "0RFM9Hg6GP31",
        "outputId": "4e80e319-422b-4bc3-de04-c81ca426a3a4"
      },
      "execution_count": 216,
      "outputs": [
        {
          "output_type": "execute_result",
          "data": {
            "text/html": [
              "\n",
              "  <div id=\"df-e3ccdd53-83a1-4cf9-8468-26d0de589f10\">\n",
              "    <div class=\"colab-df-container\">\n",
              "      <div>\n",
              "<style scoped>\n",
              "    .dataframe tbody tr th:only-of-type {\n",
              "        vertical-align: middle;\n",
              "    }\n",
              "\n",
              "    .dataframe tbody tr th {\n",
              "        vertical-align: top;\n",
              "    }\n",
              "\n",
              "    .dataframe thead th {\n",
              "        text-align: right;\n",
              "    }\n",
              "</style>\n",
              "<table border=\"1\" class=\"dataframe\">\n",
              "  <thead>\n",
              "    <tr style=\"text-align: right;\">\n",
              "      <th></th>\n",
              "      <th>Postal Code</th>\n",
              "      <th>Sales</th>\n",
              "      <th>Quantity</th>\n",
              "      <th>Discount</th>\n",
              "      <th>Profit</th>\n",
              "    </tr>\n",
              "  </thead>\n",
              "  <tbody>\n",
              "    <tr>\n",
              "      <th>Postal Code</th>\n",
              "      <td>1.000000</td>\n",
              "      <td>-0.023854</td>\n",
              "      <td>0.012761</td>\n",
              "      <td>0.058443</td>\n",
              "      <td>-0.029961</td>\n",
              "    </tr>\n",
              "    <tr>\n",
              "      <th>Sales</th>\n",
              "      <td>-0.023854</td>\n",
              "      <td>1.000000</td>\n",
              "      <td>0.200795</td>\n",
              "      <td>-0.028190</td>\n",
              "      <td>0.479064</td>\n",
              "    </tr>\n",
              "    <tr>\n",
              "      <th>Quantity</th>\n",
              "      <td>0.012761</td>\n",
              "      <td>0.200795</td>\n",
              "      <td>1.000000</td>\n",
              "      <td>0.008623</td>\n",
              "      <td>0.066253</td>\n",
              "    </tr>\n",
              "    <tr>\n",
              "      <th>Discount</th>\n",
              "      <td>0.058443</td>\n",
              "      <td>-0.028190</td>\n",
              "      <td>0.008623</td>\n",
              "      <td>1.000000</td>\n",
              "      <td>-0.219487</td>\n",
              "    </tr>\n",
              "    <tr>\n",
              "      <th>Profit</th>\n",
              "      <td>-0.029961</td>\n",
              "      <td>0.479064</td>\n",
              "      <td>0.066253</td>\n",
              "      <td>-0.219487</td>\n",
              "      <td>1.000000</td>\n",
              "    </tr>\n",
              "  </tbody>\n",
              "</table>\n",
              "</div>\n",
              "      <button class=\"colab-df-convert\" onclick=\"convertToInteractive('df-e3ccdd53-83a1-4cf9-8468-26d0de589f10')\"\n",
              "              title=\"Convert this dataframe to an interactive table.\"\n",
              "              style=\"display:none;\">\n",
              "        \n",
              "  <svg xmlns=\"http://www.w3.org/2000/svg\" height=\"24px\"viewBox=\"0 0 24 24\"\n",
              "       width=\"24px\">\n",
              "    <path d=\"M0 0h24v24H0V0z\" fill=\"none\"/>\n",
              "    <path d=\"M18.56 5.44l.94 2.06.94-2.06 2.06-.94-2.06-.94-.94-2.06-.94 2.06-2.06.94zm-11 1L8.5 8.5l.94-2.06 2.06-.94-2.06-.94L8.5 2.5l-.94 2.06-2.06.94zm10 10l.94 2.06.94-2.06 2.06-.94-2.06-.94-.94-2.06-.94 2.06-2.06.94z\"/><path d=\"M17.41 7.96l-1.37-1.37c-.4-.4-.92-.59-1.43-.59-.52 0-1.04.2-1.43.59L10.3 9.45l-7.72 7.72c-.78.78-.78 2.05 0 2.83L4 21.41c.39.39.9.59 1.41.59.51 0 1.02-.2 1.41-.59l7.78-7.78 2.81-2.81c.8-.78.8-2.07 0-2.86zM5.41 20L4 18.59l7.72-7.72 1.47 1.35L5.41 20z\"/>\n",
              "  </svg>\n",
              "      </button>\n",
              "      \n",
              "  <style>\n",
              "    .colab-df-container {\n",
              "      display:flex;\n",
              "      flex-wrap:wrap;\n",
              "      gap: 12px;\n",
              "    }\n",
              "\n",
              "    .colab-df-convert {\n",
              "      background-color: #E8F0FE;\n",
              "      border: none;\n",
              "      border-radius: 50%;\n",
              "      cursor: pointer;\n",
              "      display: none;\n",
              "      fill: #1967D2;\n",
              "      height: 32px;\n",
              "      padding: 0 0 0 0;\n",
              "      width: 32px;\n",
              "    }\n",
              "\n",
              "    .colab-df-convert:hover {\n",
              "      background-color: #E2EBFA;\n",
              "      box-shadow: 0px 1px 2px rgba(60, 64, 67, 0.3), 0px 1px 3px 1px rgba(60, 64, 67, 0.15);\n",
              "      fill: #174EA6;\n",
              "    }\n",
              "\n",
              "    [theme=dark] .colab-df-convert {\n",
              "      background-color: #3B4455;\n",
              "      fill: #D2E3FC;\n",
              "    }\n",
              "\n",
              "    [theme=dark] .colab-df-convert:hover {\n",
              "      background-color: #434B5C;\n",
              "      box-shadow: 0px 1px 3px 1px rgba(0, 0, 0, 0.15);\n",
              "      filter: drop-shadow(0px 1px 2px rgba(0, 0, 0, 0.3));\n",
              "      fill: #FFFFFF;\n",
              "    }\n",
              "  </style>\n",
              "\n",
              "      <script>\n",
              "        const buttonEl =\n",
              "          document.querySelector('#df-e3ccdd53-83a1-4cf9-8468-26d0de589f10 button.colab-df-convert');\n",
              "        buttonEl.style.display =\n",
              "          google.colab.kernel.accessAllowed ? 'block' : 'none';\n",
              "\n",
              "        async function convertToInteractive(key) {\n",
              "          const element = document.querySelector('#df-e3ccdd53-83a1-4cf9-8468-26d0de589f10');\n",
              "          const dataTable =\n",
              "            await google.colab.kernel.invokeFunction('convertToInteractive',\n",
              "                                                     [key], {});\n",
              "          if (!dataTable) return;\n",
              "\n",
              "          const docLinkHtml = 'Like what you see? Visit the ' +\n",
              "            '<a target=\"_blank\" href=https://colab.research.google.com/notebooks/data_table.ipynb>data table notebook</a>'\n",
              "            + ' to learn more about interactive tables.';\n",
              "          element.innerHTML = '';\n",
              "          dataTable['output_type'] = 'display_data';\n",
              "          await google.colab.output.renderOutput(dataTable, element);\n",
              "          const docLink = document.createElement('div');\n",
              "          docLink.innerHTML = docLinkHtml;\n",
              "          element.appendChild(docLink);\n",
              "        }\n",
              "      </script>\n",
              "    </div>\n",
              "  </div>\n",
              "  "
            ],
            "text/plain": [
              "             Postal Code     Sales  Quantity  Discount    Profit\n",
              "Postal Code     1.000000 -0.023854  0.012761  0.058443 -0.029961\n",
              "Sales          -0.023854  1.000000  0.200795 -0.028190  0.479064\n",
              "Quantity        0.012761  0.200795  1.000000  0.008623  0.066253\n",
              "Discount        0.058443 -0.028190  0.008623  1.000000 -0.219487\n",
              "Profit         -0.029961  0.479064  0.066253 -0.219487  1.000000"
            ]
          },
          "metadata": {},
          "execution_count": 216
        }
      ]
    },
    {
      "cell_type": "code",
      "source": [
        "data = data.drop(['Postal Code','Country'],axis=1)\n",
        "data.head()"
      ],
      "metadata": {
        "colab": {
          "base_uri": "https://localhost:8080/",
          "height": 206
        },
        "id": "BkmTsRdIGxqi",
        "outputId": "569cb323-be78-4b52-b2fe-29f3a092702e"
      },
      "execution_count": 217,
      "outputs": [
        {
          "output_type": "execute_result",
          "data": {
            "text/html": [
              "\n",
              "  <div id=\"df-4c6a98c9-0cbf-4080-bc9a-6fcc6669aeb6\">\n",
              "    <div class=\"colab-df-container\">\n",
              "      <div>\n",
              "<style scoped>\n",
              "    .dataframe tbody tr th:only-of-type {\n",
              "        vertical-align: middle;\n",
              "    }\n",
              "\n",
              "    .dataframe tbody tr th {\n",
              "        vertical-align: top;\n",
              "    }\n",
              "\n",
              "    .dataframe thead th {\n",
              "        text-align: right;\n",
              "    }\n",
              "</style>\n",
              "<table border=\"1\" class=\"dataframe\">\n",
              "  <thead>\n",
              "    <tr style=\"text-align: right;\">\n",
              "      <th></th>\n",
              "      <th>Ship Mode</th>\n",
              "      <th>Segment</th>\n",
              "      <th>City</th>\n",
              "      <th>State</th>\n",
              "      <th>Region</th>\n",
              "      <th>Category</th>\n",
              "      <th>Sub-Category</th>\n",
              "      <th>Sales</th>\n",
              "      <th>Quantity</th>\n",
              "      <th>Discount</th>\n",
              "      <th>Profit</th>\n",
              "    </tr>\n",
              "  </thead>\n",
              "  <tbody>\n",
              "    <tr>\n",
              "      <th>0</th>\n",
              "      <td>Second Class</td>\n",
              "      <td>Consumer</td>\n",
              "      <td>Henderson</td>\n",
              "      <td>Kentucky</td>\n",
              "      <td>South</td>\n",
              "      <td>Furniture</td>\n",
              "      <td>Bookcases</td>\n",
              "      <td>261.9600</td>\n",
              "      <td>2</td>\n",
              "      <td>0.00</td>\n",
              "      <td>41.9136</td>\n",
              "    </tr>\n",
              "    <tr>\n",
              "      <th>1</th>\n",
              "      <td>Second Class</td>\n",
              "      <td>Consumer</td>\n",
              "      <td>Henderson</td>\n",
              "      <td>Kentucky</td>\n",
              "      <td>South</td>\n",
              "      <td>Furniture</td>\n",
              "      <td>Chairs</td>\n",
              "      <td>731.9400</td>\n",
              "      <td>3</td>\n",
              "      <td>0.00</td>\n",
              "      <td>219.5820</td>\n",
              "    </tr>\n",
              "    <tr>\n",
              "      <th>2</th>\n",
              "      <td>Second Class</td>\n",
              "      <td>Corporate</td>\n",
              "      <td>Los Angeles</td>\n",
              "      <td>California</td>\n",
              "      <td>West</td>\n",
              "      <td>Office Supplies</td>\n",
              "      <td>Labels</td>\n",
              "      <td>14.6200</td>\n",
              "      <td>2</td>\n",
              "      <td>0.00</td>\n",
              "      <td>6.8714</td>\n",
              "    </tr>\n",
              "    <tr>\n",
              "      <th>3</th>\n",
              "      <td>Standard Class</td>\n",
              "      <td>Consumer</td>\n",
              "      <td>Fort Lauderdale</td>\n",
              "      <td>Florida</td>\n",
              "      <td>South</td>\n",
              "      <td>Furniture</td>\n",
              "      <td>Tables</td>\n",
              "      <td>957.5775</td>\n",
              "      <td>5</td>\n",
              "      <td>0.45</td>\n",
              "      <td>-383.0310</td>\n",
              "    </tr>\n",
              "    <tr>\n",
              "      <th>4</th>\n",
              "      <td>Standard Class</td>\n",
              "      <td>Consumer</td>\n",
              "      <td>Fort Lauderdale</td>\n",
              "      <td>Florida</td>\n",
              "      <td>South</td>\n",
              "      <td>Office Supplies</td>\n",
              "      <td>Storage</td>\n",
              "      <td>22.3680</td>\n",
              "      <td>2</td>\n",
              "      <td>0.20</td>\n",
              "      <td>2.5164</td>\n",
              "    </tr>\n",
              "  </tbody>\n",
              "</table>\n",
              "</div>\n",
              "      <button class=\"colab-df-convert\" onclick=\"convertToInteractive('df-4c6a98c9-0cbf-4080-bc9a-6fcc6669aeb6')\"\n",
              "              title=\"Convert this dataframe to an interactive table.\"\n",
              "              style=\"display:none;\">\n",
              "        \n",
              "  <svg xmlns=\"http://www.w3.org/2000/svg\" height=\"24px\"viewBox=\"0 0 24 24\"\n",
              "       width=\"24px\">\n",
              "    <path d=\"M0 0h24v24H0V0z\" fill=\"none\"/>\n",
              "    <path d=\"M18.56 5.44l.94 2.06.94-2.06 2.06-.94-2.06-.94-.94-2.06-.94 2.06-2.06.94zm-11 1L8.5 8.5l.94-2.06 2.06-.94-2.06-.94L8.5 2.5l-.94 2.06-2.06.94zm10 10l.94 2.06.94-2.06 2.06-.94-2.06-.94-.94-2.06-.94 2.06-2.06.94z\"/><path d=\"M17.41 7.96l-1.37-1.37c-.4-.4-.92-.59-1.43-.59-.52 0-1.04.2-1.43.59L10.3 9.45l-7.72 7.72c-.78.78-.78 2.05 0 2.83L4 21.41c.39.39.9.59 1.41.59.51 0 1.02-.2 1.41-.59l7.78-7.78 2.81-2.81c.8-.78.8-2.07 0-2.86zM5.41 20L4 18.59l7.72-7.72 1.47 1.35L5.41 20z\"/>\n",
              "  </svg>\n",
              "      </button>\n",
              "      \n",
              "  <style>\n",
              "    .colab-df-container {\n",
              "      display:flex;\n",
              "      flex-wrap:wrap;\n",
              "      gap: 12px;\n",
              "    }\n",
              "\n",
              "    .colab-df-convert {\n",
              "      background-color: #E8F0FE;\n",
              "      border: none;\n",
              "      border-radius: 50%;\n",
              "      cursor: pointer;\n",
              "      display: none;\n",
              "      fill: #1967D2;\n",
              "      height: 32px;\n",
              "      padding: 0 0 0 0;\n",
              "      width: 32px;\n",
              "    }\n",
              "\n",
              "    .colab-df-convert:hover {\n",
              "      background-color: #E2EBFA;\n",
              "      box-shadow: 0px 1px 2px rgba(60, 64, 67, 0.3), 0px 1px 3px 1px rgba(60, 64, 67, 0.15);\n",
              "      fill: #174EA6;\n",
              "    }\n",
              "\n",
              "    [theme=dark] .colab-df-convert {\n",
              "      background-color: #3B4455;\n",
              "      fill: #D2E3FC;\n",
              "    }\n",
              "\n",
              "    [theme=dark] .colab-df-convert:hover {\n",
              "      background-color: #434B5C;\n",
              "      box-shadow: 0px 1px 3px 1px rgba(0, 0, 0, 0.15);\n",
              "      filter: drop-shadow(0px 1px 2px rgba(0, 0, 0, 0.3));\n",
              "      fill: #FFFFFF;\n",
              "    }\n",
              "  </style>\n",
              "\n",
              "      <script>\n",
              "        const buttonEl =\n",
              "          document.querySelector('#df-4c6a98c9-0cbf-4080-bc9a-6fcc6669aeb6 button.colab-df-convert');\n",
              "        buttonEl.style.display =\n",
              "          google.colab.kernel.accessAllowed ? 'block' : 'none';\n",
              "\n",
              "        async function convertToInteractive(key) {\n",
              "          const element = document.querySelector('#df-4c6a98c9-0cbf-4080-bc9a-6fcc6669aeb6');\n",
              "          const dataTable =\n",
              "            await google.colab.kernel.invokeFunction('convertToInteractive',\n",
              "                                                     [key], {});\n",
              "          if (!dataTable) return;\n",
              "\n",
              "          const docLinkHtml = 'Like what you see? Visit the ' +\n",
              "            '<a target=\"_blank\" href=https://colab.research.google.com/notebooks/data_table.ipynb>data table notebook</a>'\n",
              "            + ' to learn more about interactive tables.';\n",
              "          element.innerHTML = '';\n",
              "          dataTable['output_type'] = 'display_data';\n",
              "          await google.colab.output.renderOutput(dataTable, element);\n",
              "          const docLink = document.createElement('div');\n",
              "          docLink.innerHTML = docLinkHtml;\n",
              "          element.appendChild(docLink);\n",
              "        }\n",
              "      </script>\n",
              "    </div>\n",
              "  </div>\n",
              "  "
            ],
            "text/plain": [
              "        Ship Mode    Segment             City  ... Quantity Discount    Profit\n",
              "0    Second Class   Consumer        Henderson  ...        2     0.00   41.9136\n",
              "1    Second Class   Consumer        Henderson  ...        3     0.00  219.5820\n",
              "2    Second Class  Corporate      Los Angeles  ...        2     0.00    6.8714\n",
              "3  Standard Class   Consumer  Fort Lauderdale  ...        5     0.45 -383.0310\n",
              "4  Standard Class   Consumer  Fort Lauderdale  ...        2     0.20    2.5164\n",
              "\n",
              "[5 rows x 11 columns]"
            ]
          },
          "metadata": {},
          "execution_count": 217
        }
      ]
    },
    {
      "cell_type": "code",
      "source": [
        "data.corr().style.background_gradient(cmap='Blues')"
      ],
      "metadata": {
        "colab": {
          "base_uri": "https://localhost:8080/",
          "height": 174
        },
        "id": "8SDERFemOtja",
        "outputId": "84e0b301-cfa3-48c6-85ce-4035474f2bd0"
      },
      "execution_count": 218,
      "outputs": [
        {
          "output_type": "execute_result",
          "data": {
            "text/html": [
              "<style type=\"text/css\">\n",
              "#T_66756_row0_col0, #T_66756_row1_col1, #T_66756_row2_col2, #T_66756_row3_col3 {\n",
              "  background-color: #08306b;\n",
              "  color: #f1f1f1;\n",
              "}\n",
              "#T_66756_row0_col1 {\n",
              "  background-color: #d1e2f3;\n",
              "  color: #000000;\n",
              "}\n",
              "#T_66756_row0_col2 {\n",
              "  background-color: #d8e7f5;\n",
              "  color: #000000;\n",
              "}\n",
              "#T_66756_row0_col3 {\n",
              "  background-color: #539ecd;\n",
              "  color: #f1f1f1;\n",
              "}\n",
              "#T_66756_row1_col0 {\n",
              "  background-color: #cbdef1;\n",
              "  color: #000000;\n",
              "}\n",
              "#T_66756_row1_col2 {\n",
              "  background-color: #d3e3f3;\n",
              "  color: #000000;\n",
              "}\n",
              "#T_66756_row1_col3 {\n",
              "  background-color: #caddf0;\n",
              "  color: #000000;\n",
              "}\n",
              "#T_66756_row2_col0, #T_66756_row2_col1, #T_66756_row2_col3, #T_66756_row3_col2 {\n",
              "  background-color: #f7fbff;\n",
              "  color: #000000;\n",
              "}\n",
              "#T_66756_row3_col0 {\n",
              "  background-color: #6dafd7;\n",
              "  color: #f1f1f1;\n",
              "}\n",
              "#T_66756_row3_col1 {\n",
              "  background-color: #ecf4fb;\n",
              "  color: #000000;\n",
              "}\n",
              "</style>\n",
              "<table id=\"T_66756_\" class=\"dataframe\">\n",
              "  <thead>\n",
              "    <tr>\n",
              "      <th class=\"blank level0\" >&nbsp;</th>\n",
              "      <th class=\"col_heading level0 col0\" >Sales</th>\n",
              "      <th class=\"col_heading level0 col1\" >Quantity</th>\n",
              "      <th class=\"col_heading level0 col2\" >Discount</th>\n",
              "      <th class=\"col_heading level0 col3\" >Profit</th>\n",
              "    </tr>\n",
              "  </thead>\n",
              "  <tbody>\n",
              "    <tr>\n",
              "      <th id=\"T_66756_level0_row0\" class=\"row_heading level0 row0\" >Sales</th>\n",
              "      <td id=\"T_66756_row0_col0\" class=\"data row0 col0\" >1.000000</td>\n",
              "      <td id=\"T_66756_row0_col1\" class=\"data row0 col1\" >0.200795</td>\n",
              "      <td id=\"T_66756_row0_col2\" class=\"data row0 col2\" >-0.028190</td>\n",
              "      <td id=\"T_66756_row0_col3\" class=\"data row0 col3\" >0.479064</td>\n",
              "    </tr>\n",
              "    <tr>\n",
              "      <th id=\"T_66756_level0_row1\" class=\"row_heading level0 row1\" >Quantity</th>\n",
              "      <td id=\"T_66756_row1_col0\" class=\"data row1 col0\" >0.200795</td>\n",
              "      <td id=\"T_66756_row1_col1\" class=\"data row1 col1\" >1.000000</td>\n",
              "      <td id=\"T_66756_row1_col2\" class=\"data row1 col2\" >0.008623</td>\n",
              "      <td id=\"T_66756_row1_col3\" class=\"data row1 col3\" >0.066253</td>\n",
              "    </tr>\n",
              "    <tr>\n",
              "      <th id=\"T_66756_level0_row2\" class=\"row_heading level0 row2\" >Discount</th>\n",
              "      <td id=\"T_66756_row2_col0\" class=\"data row2 col0\" >-0.028190</td>\n",
              "      <td id=\"T_66756_row2_col1\" class=\"data row2 col1\" >0.008623</td>\n",
              "      <td id=\"T_66756_row2_col2\" class=\"data row2 col2\" >1.000000</td>\n",
              "      <td id=\"T_66756_row2_col3\" class=\"data row2 col3\" >-0.219487</td>\n",
              "    </tr>\n",
              "    <tr>\n",
              "      <th id=\"T_66756_level0_row3\" class=\"row_heading level0 row3\" >Profit</th>\n",
              "      <td id=\"T_66756_row3_col0\" class=\"data row3 col0\" >0.479064</td>\n",
              "      <td id=\"T_66756_row3_col1\" class=\"data row3 col1\" >0.066253</td>\n",
              "      <td id=\"T_66756_row3_col2\" class=\"data row3 col2\" >-0.219487</td>\n",
              "      <td id=\"T_66756_row3_col3\" class=\"data row3 col3\" >1.000000</td>\n",
              "    </tr>\n",
              "  </tbody>\n",
              "</table>\n"
            ],
            "text/plain": [
              "<pandas.io.formats.style.Styler at 0x7f8f4f0c53d0>"
            ]
          },
          "metadata": {},
          "execution_count": 218
        }
      ]
    },
    {
      "cell_type": "code",
      "source": [
        "sns.pairplot(data)"
      ],
      "metadata": {
        "colab": {
          "base_uri": "https://localhost:8080/"
        },
        "id": "vgRvhNxhPBMf",
        "outputId": "f2702935-a632-4ce5-c2ed-6a8adeaf4e85"
      },
      "execution_count": null,
      "outputs": [
        {
          "output_type": "execute_result",
          "data": {
            "text/plain": [
              "<seaborn.axisgrid.PairGrid at 0x7f8f4fa66810>"
            ]
          },
          "metadata": {},
          "execution_count": 219
        }
      ]
    },
    {
      "cell_type": "markdown",
      "source": [
        "# Visualizing the data"
      ],
      "metadata": {
        "id": "ThLmm0st21Pf"
      }
    },
    {
      "cell_type": "code",
      "source": [
        "data['Ship Mode'].value_counts()"
      ],
      "metadata": {
        "id": "vwAsY04BKTHP"
      },
      "execution_count": null,
      "outputs": []
    },
    {
      "cell_type": "code",
      "source": [
        "plt.figure(figsize=(7,7))\n",
        "sns.countplot(data['Ship Mode'])\n",
        "plt.show()"
      ],
      "metadata": {
        "id": "PD18W6g-MCma"
      },
      "execution_count": null,
      "outputs": []
    },
    {
      "cell_type": "markdown",
      "source": [
        "Standard Class is the most preferred ship mode"
      ],
      "metadata": {
        "id": "0MDO4O2eyOS7"
      }
    },
    {
      "cell_type": "code",
      "source": [
        "data['Segment'].value_counts()"
      ],
      "metadata": {
        "id": "ZNujIc1Fs3Dw"
      },
      "execution_count": null,
      "outputs": []
    },
    {
      "cell_type": "code",
      "source": [
        "myexplode = [0.1, 0.03, 0.08]\n",
        "plt.figure(figsize=(10,10))\n",
        "plt.pie(data['Segment'].value_counts(), data=data,labels=data['Segment'].value_counts().index,explode=myexplode,shadow=True,autopct='%1.1f%%',textprops={'fontsize': 20})\n",
        "centre_circle = plt.Circle((0,0),0.20,fc='white')\n",
        "fig = plt.gcf()\n",
        "fig.gca().add_artist(centre_circle)\n",
        "plt.legend(prop={'size':14})\n",
        "plt.show()"
      ],
      "metadata": {
        "id": "1OTKiC6VtNqE"
      },
      "execution_count": null,
      "outputs": []
    },
    {
      "cell_type": "code",
      "source": [
        "fig = px.bar(data,x=data['State'],y=data['Sales'],color=data['Region'],text_auto='.2s',\n",
        "             title=\"Sales of each State\")\n",
        "fig.update_layout(\n",
        "    autosize=False,\n",
        "    width=1200,\n",
        "    height=800)\n",
        "fig.show()"
      ],
      "metadata": {
        "id": "eiDBjnBJ1_3j"
      },
      "execution_count": null,
      "outputs": []
    },
    {
      "cell_type": "markdown",
      "source": [
        "California and New york make most number of sales\n",
        "\n",
        "\n"
      ],
      "metadata": {
        "id": "qcbqyN3B1UWe"
      }
    },
    {
      "cell_type": "code",
      "source": [
        "sales=data.groupby('State')['Sales','Profit'].sum().sort_values(by='Sales', ascending=False)\n",
        "sales.plot.bar(color=['blue','red'],figsize=(32,15))\n",
        "plt.xlabel('States',size=30)\n",
        "plt.ylabel('Profit/Loss',size=30)\n",
        "plt.xticks(size=25)\n",
        "plt.yticks(size=20)\n",
        "plt.title('Sales and Profits for all the states',size=40)\n",
        "plt.show()"
      ],
      "metadata": {
        "id": "ryi35gmH6VnF"
      },
      "execution_count": null,
      "outputs": []
    },
    {
      "cell_type": "markdown",
      "source": [
        "> Maximum sales and profits happen to be in California and New York.\n",
        "\n",
        "> West Virginia and North Dakota have minimum sales.\n",
        "\n",
        "> Maximum losses are from Taxes."
      ],
      "metadata": {
        "id": "u-tPsIaK49_d"
      }
    },
    {
      "cell_type": "code",
      "source": [
        "data['Region'].value_counts()"
      ],
      "metadata": {
        "id": "DMbB_4lL3j7j"
      },
      "execution_count": null,
      "outputs": []
    },
    {
      "cell_type": "code",
      "source": [
        "reg=data.groupby('Region')['Sales','Profit'].sum()\n",
        "reg.plot.bar(color=['blue','red'],figsize=(10,10))"
      ],
      "metadata": {
        "id": "DaZlqnsVHtg3"
      },
      "execution_count": null,
      "outputs": []
    },
    {
      "cell_type": "markdown",
      "source": [
        "\n",
        "\n",
        "> West makes most sales and profits\n",
        "\n",
        "\n",
        "> Centeral makes least profit but they more than South whoes makes less sales and more profits\n",
        "\n",
        "\n",
        "\n",
        "\n",
        "\n"
      ],
      "metadata": {
        "id": "OK-M-XS_MQEF"
      }
    },
    {
      "cell_type": "code",
      "source": [
        "st_dis = data.groupby('State')['Discount'].sum()\n",
        "st_dis.plot.barh(figsize=(30,15))\n",
        "plt.xlabel('Discount')"
      ],
      "metadata": {
        "id": "aEDFOUkKK0jR"
      },
      "execution_count": null,
      "outputs": []
    },
    {
      "cell_type": "markdown",
      "source": [
        "> Texas takes **most discount**\n",
        "\n",
        "> Texas makes the **least profits**\n",
        "\n",
        "> Texas **Sales are the most 3rd one**\n",
        "\n"
      ],
      "metadata": {
        "id": "kUbz6Db3NpwR"
      }
    },
    {
      "cell_type": "code",
      "source": [
        "reg_dis = data.groupby('Region')['Discount'].sum()\n",
        "reg_dis.plot.barh()\n",
        "plt.xlabel('Discount')"
      ],
      "metadata": {
        "id": "rWVD66uBNHiK"
      },
      "execution_count": null,
      "outputs": []
    },
    {
      "cell_type": "markdown",
      "source": [
        "Centeral have the most Discount \n",
        "\n",
        "\n",
        "> Note: Texas is in a Centeral Region\n",
        "\n"
      ],
      "metadata": {
        "id": "m6xd9EAxPQxa"
      }
    },
    {
      "cell_type": "code",
      "source": [
        "cat = data.groupby('Category')['Sales','Profit'].sum()\n",
        "cat.plot.bar(figsize=(7,7))"
      ],
      "metadata": {
        "id": "XOdpfqkXOb-b"
      },
      "execution_count": null,
      "outputs": []
    },
    {
      "cell_type": "markdown",
      "source": [
        "Technology makes the most sales and profits\n"
      ],
      "metadata": {
        "id": "nEtKF9UsRL40"
      }
    },
    {
      "cell_type": "code",
      "source": [
        "sub = data.groupby('Sub-Category')['Sales','Profit'].sum()\n",
        "sub.plot.bar(figsize=(12,12))"
      ],
      "metadata": {
        "id": "G0NJVvqGP7oc"
      },
      "execution_count": null,
      "outputs": []
    },
    {
      "cell_type": "markdown",
      "source": [
        "> Chairs and Phones makes the maximum sales.\n",
        "\n",
        "> Tables makes most loses then Bookcases\n"
      ],
      "metadata": {
        "id": "t9yZd7A8RosM"
      }
    },
    {
      "cell_type": "code",
      "source": [
        "cat_q=data.groupby('Category')['Profit','Quantity'].sum()\n",
        "cat_q.plot.bar(color=['blue','red'],figsize=(7,7))"
      ],
      "metadata": {
        "id": "g6sTBrp4Q_tw"
      },
      "execution_count": null,
      "outputs": []
    },
    {
      "cell_type": "markdown",
      "source": [
        "\n",
        "> Technology makes maximum profit,with minimum quantities being sold.\n",
        "\n",
        ">Furniture makes least profit."
      ],
      "metadata": {
        "id": "MkngC2APTmWd"
      }
    },
    {
      "cell_type": "code",
      "source": [
        "sub_q=data.groupby('Sub-Category')['Profit','Quantity'].sum()\n",
        "sub_q.plot.bar(color=['blue','red'],figsize=(17,8))"
      ],
      "metadata": {
        "id": "berf5BtyTd1I"
      },
      "execution_count": null,
      "outputs": []
    },
    {
      "cell_type": "markdown",
      "source": [
        "> Copiers makes maximum profits with less quantity"
      ],
      "metadata": {
        "id": "FCOa6mmbUfiB"
      }
    },
    {
      "cell_type": "code",
      "source": [
        ""
      ],
      "metadata": {
        "id": "-LMPQ7hTVi0p"
      },
      "execution_count": null,
      "outputs": []
    }
  ]
}